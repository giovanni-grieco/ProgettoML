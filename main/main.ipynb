{
 "cells": [
  {
   "cell_type": "code",
   "id": "initial_id",
   "metadata": {
    "collapsed": true,
    "ExecuteTime": {
     "end_time": "2024-06-02T13:51:25.248323Z",
     "start_time": "2024-06-02T13:51:25.241141Z"
    }
   },
   "source": [
    "import gc\n",
    "import scipy.io as sio\n",
    "import numpy as np\n",
    "import matplotlib.pyplot as plt\n",
    "import pandas as pd\n",
    "import os"
   ],
   "outputs": [],
   "execution_count": 5
  },
  {
   "metadata": {
    "ExecuteTime": {
     "end_time": "2024-06-02T13:51:25.260267Z",
     "start_time": "2024-06-02T13:51:25.252316Z"
    }
   },
   "cell_type": "code",
   "source": [
    "path = '../datasets/B101/'\n",
    "files = os.listdir(path)\n",
    "files = [file for file in files if file.endswith('.mat')]"
   ],
   "id": "c1c4713af2f94a0f",
   "outputs": [],
   "execution_count": 6
  },
  {
   "metadata": {
    "ExecuteTime": {
     "end_time": "2024-06-02T13:51:50.615646Z",
     "start_time": "2024-06-02T13:51:25.262264Z"
    }
   },
   "cell_type": "code",
   "source": [
    "dataSet = {}\n",
    "for file in files:\n",
    "    fileName = os.path.basename(file)\n",
    "    fileName = fileName.split('.')[0]\n",
    "    fileName = fileName.removeprefix('Channel')\n",
    "    dataSet[fileName] = sio.loadmat(path + file)\n",
    "files = None"
   ],
   "id": "6661894adb5a892a",
   "outputs": [],
   "execution_count": 7
  },
  {
   "metadata": {
    "ExecuteTime": {
     "end_time": "2024-06-02T13:51:50.661944Z",
     "start_time": "2024-06-02T13:51:50.617642Z"
    }
   },
   "cell_type": "code",
   "source": [
    "#deallocate with GC\n",
    "gc.collect()"
   ],
   "id": "2eb1b6982979b808",
   "outputs": [
    {
     "data": {
      "text/plain": [
       "5"
      ]
     },
     "execution_count": 8,
     "metadata": {},
     "output_type": "execute_result"
    }
   ],
   "execution_count": 8
  },
  {
   "metadata": {
    "ExecuteTime": {
     "end_time": "2024-06-02T13:51:50.666497Z",
     "start_time": "2024-06-02T13:51:50.662940Z"
    }
   },
   "cell_type": "code",
   "source": "",
   "id": "41efc71a390ac233",
   "outputs": [],
   "execution_count": 8
  }
 ],
 "metadata": {
  "kernelspec": {
   "display_name": "Python 3",
   "language": "python",
   "name": "python3"
  },
  "language_info": {
   "codemirror_mode": {
    "name": "ipython",
    "version": 2
   },
   "file_extension": ".py",
   "mimetype": "text/x-python",
   "name": "python",
   "nbconvert_exporter": "python",
   "pygments_lexer": "ipython2",
   "version": "2.7.6"
  }
 },
 "nbformat": 4,
 "nbformat_minor": 5
}
