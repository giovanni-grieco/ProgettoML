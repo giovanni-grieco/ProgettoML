{
 "cells": [
  {
   "cell_type": "code",
   "id": "initial_id",
   "metadata": {
    "collapsed": true,
    "ExecuteTime": {
     "end_time": "2024-06-03T07:06:24.072232Z",
     "start_time": "2024-06-03T07:06:24.070115Z"
    }
   },
   "source": [
    "import gc\n",
    "import scipy.io as sio\n",
    "import numpy as np\n",
    "import matplotlib.pyplot as plt\n",
    "import pandas as pd\n",
    "import os"
   ],
   "outputs": [],
   "execution_count": 5
  },
  {
   "metadata": {
    "ExecuteTime": {
     "end_time": "2024-06-03T07:06:24.081284Z",
     "start_time": "2024-06-03T07:06:24.077892Z"
    }
   },
   "cell_type": "code",
   "source": [
    "path = '../datasets/B101/'\n",
    "files = os.listdir(path)\n",
    "files = [file for file in files if file.endswith('_trimmed.mat')]"
   ],
   "id": "c1c4713af2f94a0f",
   "outputs": [],
   "execution_count": 6
  },
  {
   "metadata": {
    "ExecuteTime": {
     "end_time": "2024-06-03T07:06:24.099425Z",
     "start_time": "2024-06-03T07:06:24.082370Z"
    }
   },
   "cell_type": "code",
   "source": [
    "dataSet = {}\n",
    "for file in files:\n",
    "    fileName = os.path.basename(file)\n",
    "    fileName = fileName.split('.')[0]\n",
    "    fileName = fileName.removeprefix('Channel')\n",
    "    fileName = fileName.removesuffix('_trimmed')\n",
    "    dataSet[fileName] = sio.loadmat(path + file)\n",
    "files = None"
   ],
   "id": "6661894adb5a892a",
   "outputs": [],
   "execution_count": 7
  },
  {
   "metadata": {
    "ExecuteTime": {
     "end_time": "2024-06-03T07:06:24.104059Z",
     "start_time": "2024-06-03T07:06:24.101039Z"
    }
   },
   "cell_type": "code",
   "source": "dataSet.keys()",
   "id": "2eb1b6982979b808",
   "outputs": [
    {
     "data": {
      "text/plain": [
       "dict_keys(['1', '10', '11', '12', '13', '14', '15', '16', '17', '18', '19', '2', '20', '21', '22', '23', '24', '25', '26', '27', '28', '29', '3', '30', '31', '32', '33', '34', '35', '36', '37', '38', '39', '4', '40', '41', '42', '43', '44', '45', '46', '47', '48', '49', '5', '50', '51', '52', '53', '54', '55', '56', '57', '58', '59', '6', '60', '61', '62', '7', '8', '9'])"
      ]
     },
     "execution_count": 8,
     "metadata": {},
     "output_type": "execute_result"
    }
   ],
   "execution_count": 8
  },
  {
   "metadata": {
    "ExecuteTime": {
     "end_time": "2024-06-03T07:06:24.109840Z",
     "start_time": "2024-06-03T07:06:24.107953Z"
    }
   },
   "cell_type": "code",
   "source": "",
   "id": "41efc71a390ac233",
   "outputs": [],
   "execution_count": 8
  }
 ],
 "metadata": {
  "kernelspec": {
   "display_name": "Python 3",
   "language": "python",
   "name": "python3"
  },
  "language_info": {
   "codemirror_mode": {
    "name": "ipython",
    "version": 2
   },
   "file_extension": ".py",
   "mimetype": "text/x-python",
   "name": "python",
   "nbconvert_exporter": "python",
   "pygments_lexer": "ipython2",
   "version": "2.7.6"
  }
 },
 "nbformat": 4,
 "nbformat_minor": 5
}
