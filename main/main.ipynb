{
 "cells": [
  {
   "cell_type": "code",
   "id": "initial_id",
   "metadata": {
    "collapsed": true,
    "ExecuteTime": {
     "end_time": "2024-06-02T10:28:29.632068Z",
     "start_time": "2024-06-02T10:28:29.625882Z"
    }
   },
   "source": [
    "import scipy.io as sio\n",
    "import numpy as np\n",
    "import matplotlib.pyplot as plt\n",
    "import pandas as pd\n",
    "import os"
   ],
   "outputs": [],
   "execution_count": 25
  },
  {
   "metadata": {
    "ExecuteTime": {
     "end_time": "2024-06-02T10:29:08.496885Z",
     "start_time": "2024-06-02T10:28:29.639343Z"
    }
   },
   "cell_type": "code",
   "source": [
    "path = '../datasets/B101/'\n",
    "files = os.listdir(path)\n",
    "files = [file for file in files if file.endswith('.mat')]\n",
    "convertedFiles = []\n",
    "for file in files:\n",
    "    convertedFiles.append(sio.loadmat(path + file))"
   ],
   "id": "c1c4713af2f94a0f",
   "outputs": [],
   "execution_count": 26
  },
  {
   "metadata": {
    "ExecuteTime": {
     "end_time": "2024-06-02T10:35:07.131181Z",
     "start_time": "2024-06-02T10:35:07.124329Z"
    }
   },
   "cell_type": "code",
   "source": "convertedFiles[1]['singleData']",
   "id": "e4a4c9a059d3d725",
   "outputs": [
    {
     "data": {
      "text/plain": [
       "array([[-21702628. ,  -8657071. ,   7671702. , ...,  -7847381.5,\n",
       "         24490868. ,  41916832. ]], dtype=float32)"
      ]
     },
     "execution_count": 34,
     "metadata": {},
     "output_type": "execute_result"
    }
   ],
   "execution_count": 34
  }
 ],
 "metadata": {
  "kernelspec": {
   "display_name": "Python 3",
   "language": "python",
   "name": "python3"
  },
  "language_info": {
   "codemirror_mode": {
    "name": "ipython",
    "version": 2
   },
   "file_extension": ".py",
   "mimetype": "text/x-python",
   "name": "python",
   "nbconvert_exporter": "python",
   "pygments_lexer": "ipython2",
   "version": "2.7.6"
  }
 },
 "nbformat": 4,
 "nbformat_minor": 5
}
