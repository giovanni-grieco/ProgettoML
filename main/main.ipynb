{
 "cells": [
  {
   "cell_type": "code",
   "id": "initial_id",
   "metadata": {
    "collapsed": true
   },
   "source": [
    "import scipy.io as sio\n",
    "import numpy as np\n",
    "import matplotlib.pyplot as plt\n",
    "import pandas as pd\n",
    "import tensorflow.keras as keras\n",
    "import os"
   ],
   "outputs": [],
   "execution_count": null
  },
  {
   "metadata": {},
   "cell_type": "code",
   "source": [
    "path = '../datasets/B101/'\n",
    "files = os.listdir(path)\n",
    "files = [file for file in files if file.endswith('_trimmed.mat')]"
   ],
   "id": "c1c4713af2f94a0f",
   "outputs": [],
   "execution_count": null
  },
  {
   "metadata": {},
   "cell_type": "code",
   "source": [
    "dataSet = {}\n",
    "for file in files:\n",
    "    fileName = os.path.basename(file)\n",
    "    fileName = fileName.split('.')[0]\n",
    "    fileName = fileName.removeprefix('Channel')\n",
    "    fileName = fileName.removesuffix('_trimmed')\n",
    "    dataSet[fileName] = sio.loadmat(path + file)"
   ],
   "id": "6661894adb5a892a",
   "outputs": [],
   "execution_count": null
  },
  {
   "metadata": {},
   "cell_type": "code",
   "source": "dataSet['1']['trimmedMatrix'][0]",
   "id": "2eb1b6982979b808",
   "outputs": [],
   "execution_count": null
  },
  {
   "metadata": {},
   "cell_type": "code",
   "source": [
    "#Plot the first channel\n",
    "plt.figure(figsize=(30,10))\n",
    "plt.plot(dataSet['1']['trimmedMatrix'][0][:500], 'g')\n",
    "plt.plot(dataSet['2']['trimmedMatrix'][0][:500], 'r')\n",
    "plt.plot(dataSet['3']['trimmedMatrix'][0][:500], 'b')\n",
    "#plt.plot(dataSet['4']['trimmedMatrix'][0][:500], 'c')\n",
    "#plt.plot(dataSet['39']['trimmedMatrix'][0][:500],'y')\n",
    "plt.show()"
   ],
   "id": "41efc71a390ac233",
   "outputs": [],
   "execution_count": null
  },
  {
   "metadata": {},
   "cell_type": "code",
   "source": [
    "for delta1 in range(10):\n",
    "    delta2 = delta1*2\n",
    "    #calculate correlation between 3 channels\n",
    "    corr1 = np.corrcoef(dataSet['3']['trimmedMatrix'][0][0:500], dataSet['2']['trimmedMatrix'][0][delta1:(500+delta1)])\n",
    "    corr2 = np.corrcoef(dataSet['3']['trimmedMatrix'][0][0:500], dataSet['1']['trimmedMatrix'][0][delta2:(500+delta2)])\n",
    "    corr3 = np.corrcoef(dataSet['2']['trimmedMatrix'][0][delta1:(500+delta1)], dataSet['1']['trimmedMatrix'][0][delta2:(500+delta2)])\n",
    "    print(f'delta1: {delta1}, delta2: {delta2}, corr1: {corr1[0][1]}, corr2: {corr2[0][1]}, corr3: {corr3[0][1]}')"
   ],
   "id": "5674af415427e654",
   "outputs": [],
   "execution_count": null
  },
  {
   "metadata": {},
   "cell_type": "code",
   "source": [
    "delta1 = 4\n",
    "delta2 = delta1*2\n",
    "plt.figure(figsize=(30,10))\n",
    "plt.plot(dataSet['1']['trimmedMatrix'][0][delta2:(500+delta2)], 'g')\n",
    "plt.plot(dataSet['2']['trimmedMatrix'][0][delta1:(500+delta1)], 'r')\n",
    "plt.plot(dataSet['3']['trimmedMatrix'][0][0:500], 'b')\n",
    "plt.show()"
   ],
   "id": "3f370596f1bdb5b6",
   "outputs": [],
   "execution_count": null
  },
  {
   "metadata": {},
   "cell_type": "code",
   "source": [
    "#Convert dataset to a DataFrame\n",
    "sample_number = list(range(1, len(dataSet['1']['trimmedMatrix'][0]) +1 ))\n",
    "len(sample_number)"
   ],
   "id": "be4b92e55b865ad",
   "outputs": [],
   "execution_count": null
  },
  {
   "metadata": {},
   "cell_type": "code",
   "source": [
    "data = {i: dataSet[str(i)]['trimmedMatrix'][0] for i in range(1, len(dataSet) + 1)}\n",
    "data['Sample Number'] = sample_number"
   ],
   "id": "b2e33e6f0cc53a3a",
   "outputs": [],
   "execution_count": null
  },
  {
   "metadata": {},
   "cell_type": "code",
   "source": [
    "df = pd.DataFrame(data)\n",
    "df.columns = df.columns.astype(str)\n",
    "df['Sample Number'] = df['Sample Number'].astype(str)\n",
    "#save to csv\n",
    "df.to_csv('../datasets/B101.csv', index=False)\n",
    "df.head()"
   ],
   "id": "a2b5a9ae17ca17da",
   "outputs": [],
   "execution_count": null
  },
  {
   "metadata": {},
   "cell_type": "code",
   "source": [
    "#Normalize the data\n",
    "from sklearn.preprocessing import MinMaxScaler\n",
    "scaler = MinMaxScaler()\n",
    "oldDf = df\n",
    "df = df.drop(columns=['Sample Number'])\n",
    "scaler.fit(df)\n",
    "df_normalized = scaler.transform(df)\n",
    "df_normalized = pd.DataFrame(df_normalized)\n",
    "#df_normalized.columns = oldDf.columns[:-1]\n",
    "#df_normalized['Sample Number'] = oldDf['Sample Number']\n",
    "df_normalized.head()"
   ],
   "id": "a3a8bee0a1585533",
   "outputs": [],
   "execution_count": null
  },
  {
   "metadata": {},
   "cell_type": "code",
   "source": [
    "#Split the data into training and testing\n",
    "train_size = 4500\n",
    "train = df_normalized.iloc[:train_size, :]\n",
    "test = df_normalized.iloc[train_size:, :]\n",
    "train.head()"
   ],
   "id": "3de49cab621e0a66",
   "outputs": [],
   "execution_count": null
  },
  {
   "metadata": {},
   "cell_type": "code",
   "source": "test.head()",
   "id": "c944a50c635b2161",
   "outputs": [],
   "execution_count": null
  },
  {
   "metadata": {},
   "cell_type": "code",
   "source": [
    "#Multivariate time series forecasting with LSTMs\n",
    "model = keras.models.Sequential()\n",
    "model.add(keras.layers.LSTM(128, activation='relu', return_sequences=True))\n",
    "model.add(keras.layers.LSTM(128, activation='relu'))\n",
    "model.add(keras.layers.Dense(62))\n",
    "model.compile(optimizer='adam', loss='mse')"
   ],
   "id": "985e412a157b2c83",
   "outputs": [],
   "execution_count": null
  },
  {
   "metadata": {},
   "cell_type": "code",
   "source": [
    "#Prepare the data\n",
    "def prepare_data(data, n_steps):\n",
    "    X, y = [], []\n",
    "    for i in range(len(data)):\n",
    "        end_ix = i + n_steps\n",
    "        if end_ix > len(data) - 1:\n",
    "            break\n",
    "        seq_x, seq_y = data[i:end_ix, :], data[end_ix, :]\n",
    "        X.append(seq_x)\n",
    "        y.append(seq_y)\n",
    "    return np.array(X), np.array(y)"
   ],
   "id": "300e808f3cd4cab1",
   "outputs": [],
   "execution_count": null
  },
  {
   "metadata": {},
   "cell_type": "code",
   "source": [
    "n_steps = 10\n",
    "X_train, y_train = prepare_data(train.values, n_steps)\n",
    "X_test, y_test = prepare_data(test.values, n_steps)"
   ],
   "id": "ff5deec38b609d5c",
   "outputs": [],
   "execution_count": null
  },
  {
   "metadata": {},
   "cell_type": "code",
   "source": [
    "#Ogni finestra è di 1 n_steps campioni. Ci sono train_size-n_steps finestre. Ogni finestra ha n_steps snapshot di input e ogni input è fatto da 62 canali.\n",
    "X_train.shape, y_train.shape"
   ],
   "id": "6612ba239d9b2bad",
   "outputs": [],
   "execution_count": null
  },
  {
   "metadata": {},
   "cell_type": "code",
   "source": [
    "#Train the model\n",
    "model.fit(X_train, y_train, epochs=100, verbose=0)"
   ],
   "id": "9b62efc133c41d45",
   "outputs": [],
   "execution_count": null
  },
  {
   "metadata": {},
   "cell_type": "code",
   "source": [
    "#Evaluate the model\n",
    "model.evaluate(X_test, y_test)"
   ],
   "id": "becdf6355c9982d8",
   "outputs": [],
   "execution_count": null
  },
  {
   "metadata": {},
   "cell_type": "code",
   "source": [
    "#Make predictions\n",
    "predictions = model.predict(X_test)"
   ],
   "id": "c3bbe8df2c576d91",
   "outputs": [],
   "execution_count": null
  },
  {
   "metadata": {},
   "cell_type": "code",
   "source": "X_test.shape",
   "id": "b6ab880d76a68d38",
   "outputs": [],
   "execution_count": null
  },
  {
   "metadata": {},
   "cell_type": "code",
   "source": "y_test.shape",
   "id": "be50c62ee921be85",
   "outputs": [],
   "execution_count": null
  },
  {
   "metadata": {},
   "cell_type": "code",
   "source": "predictions.shape",
   "id": "df3259cc77e5106e",
   "outputs": [],
   "execution_count": null
  },
  {
   "metadata": {},
   "cell_type": "code",
   "source": [
    "#Plot the predictions\n",
    "plt.figure(figsize=(30,10))\n",
    "plt.plot(predictions[:,0], 'g')\n",
    "plt.plot(y_test[:,0], 'r')\n",
    "plt.show()"
   ],
   "id": "dac4338f6fedc3a4",
   "outputs": [],
   "execution_count": null
  },
  {
   "metadata": {
    "ExecuteTime": {
     "end_time": "2024-06-06T10:08:19.848062Z",
     "start_time": "2024-06-06T10:08:19.828263Z"
    }
   },
   "cell_type": "code",
   "source": [
    "#Plot predictions with the original data\n",
    "channel1Data = X_train[:,0,0]\n",
    "channel1DataTest = X_test[:,0,0]\n",
    "plt.figure(figsize=(30,10))\n"
   ],
   "id": "4d0c479616517e23",
   "outputs": [
    {
     "ename": "AttributeError",
     "evalue": "'numpy.ndarray' object has no attribute 'append'",
     "output_type": "error",
     "traceback": [
      "\u001B[0;31m---------------------------------------------------------------------------\u001B[0m",
      "\u001B[0;31mAttributeError\u001B[0m                            Traceback (most recent call last)",
      "Cell \u001B[0;32mIn[44], line 3\u001B[0m\n\u001B[1;32m      1\u001B[0m \u001B[38;5;66;03m#Plot predictions with the original data\u001B[39;00m\n\u001B[1;32m      2\u001B[0m channel1Data \u001B[38;5;241m=\u001B[39m X_train[:,\u001B[38;5;241m0\u001B[39m,\u001B[38;5;241m0\u001B[39m]\n\u001B[0;32m----> 3\u001B[0m channel1Data\u001B[38;5;241m.\u001B[39mappend(y_test[\u001B[38;5;241m0\u001B[39m,\u001B[38;5;241m0\u001B[39m])\n\u001B[1;32m      4\u001B[0m plt\u001B[38;5;241m.\u001B[39mfigure(figsize\u001B[38;5;241m=\u001B[39m(\u001B[38;5;241m30\u001B[39m,\u001B[38;5;241m10\u001B[39m))\n\u001B[1;32m      5\u001B[0m plt\u001B[38;5;241m.\u001B[39mplot(channel1Data, \u001B[38;5;124m'\u001B[39m\u001B[38;5;124mg\u001B[39m\u001B[38;5;124m'\u001B[39m)\n",
      "\u001B[0;31mAttributeError\u001B[0m: 'numpy.ndarray' object has no attribute 'append'"
     ]
    }
   ],
   "execution_count": 44
  },
  {
   "metadata": {},
   "cell_type": "code",
   "outputs": [],
   "execution_count": null,
   "source": "",
   "id": "c34c3f61fd12e7fd"
  }
 ],
 "metadata": {
  "kernelspec": {
   "display_name": "Python 3",
   "language": "python",
   "name": "python3"
  },
  "language_info": {
   "codemirror_mode": {
    "name": "ipython",
    "version": 2
   },
   "file_extension": ".py",
   "mimetype": "text/x-python",
   "name": "python",
   "nbconvert_exporter": "python",
   "pygments_lexer": "ipython2",
   "version": "2.7.6"
  }
 },
 "nbformat": 4,
 "nbformat_minor": 5
}
